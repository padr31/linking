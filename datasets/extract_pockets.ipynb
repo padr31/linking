{
 "cells": [
  {
   "cell_type": "code",
   "execution_count": null,
   "id": "powerful-seven",
   "metadata": {
    "pycharm": {
     "is_executing": true
    }
   },
   "outputs": [],
   "source": [
    "import os\n",
    "import pandas as pd\n",
    "from Bio.PDB import *\n",
    "from pathlib import Path\n",
    "from rdkit import Chem\n",
    "\n",
    "import numpy as np\n",
    "from tqdm import tqdm"
   ]
  },
  {
   "cell_type": "code",
   "execution_count": null,
   "id": "ordinary-frame",
   "metadata": {
    "jupyter": {
     "outputs_hidden": true
    },
    "tags": [],
    "pycharm": {
     "is_executing": true
    }
   },
   "outputs": [],
   "source": [
    "ROOT_DIR = Path(\"/Users/padr/repos/linking/datasets/dude/raw\").resolve()\n",
    "targets = [dir for dir in os.listdir(ROOT_DIR) if not dir.startswith(\".\")]\n",
    "print(targets)\n",
    "print(len(targets))"
   ]
  },
  {
   "cell_type": "code",
   "execution_count": null,
   "id": "compound-fourth",
   "metadata": {},
   "outputs": [],
   "source": [
    "class DistanceSelect(Select):\n",
    "    \"\"\"Defines a selection class for writing a structure\"\"\"\n",
    "    def __init__(self, distances):\n",
    "        self.distances = distances\n",
    "    \n",
    "    def accept_residue(self, residue):\n",
    "        # Accepts residue if it's present in the keys of our thresholded dict\n",
    "        if residue.id[1] in self.distances.keys():\n",
    "            return 1\n",
    "        else:\n",
    "            return 0"
   ]
  },
  {
   "cell_type": "code",
   "execution_count": null,
   "id": "considered-anime",
   "metadata": {},
   "outputs": [],
   "source": [
    "def calculate_distance(protein, ligand_coords: np.ndarray):\n",
    "    \"\"\"\n",
    "    Get Dictionary of distances from CA atoms (alpha carbons) to ligand\n",
    "    Computes distance to each ligand atom, then takes the minimum.\n",
    "    \"\"\"\n",
    "    dist = {}\n",
    "    \n",
    "    for i, residue in enumerate(protein.get_residues()):\n",
    "        for atom in residue.get_atoms():\n",
    "            if atom.id == \"CA\":\n",
    "                atom_dist = []\n",
    "                for lig_atom in range(ligand_coords.shape[0]):\n",
    "                    vector  = atom.coord - ligand_coords[lig_atom,:]\n",
    "                    atom_dist.append(np.sqrt(np.sum(vector * vector)))\n",
    "                dist[residue.id[1]] = min(atom_dist)\n",
    "    return dist"
   ]
  },
  {
   "cell_type": "code",
   "execution_count": null,
   "id": "excited-crack",
   "metadata": {
    "tags": []
   },
   "outputs": [],
   "source": [
    "def extract_pocket(target, threshold: float = 8.0):\n",
    "\n",
    "    # Load Protein and ligand\n",
    "    parser = PDBParser(QUIET=True)\n",
    "    protein = parser.get_structure(ROOT_DIR / target / \"receptor.pdb\", ROOT_DIR / target / \"receptor.pdb\")\n",
    "    ligand = Chem.MolFromMol2File(str((ROOT_DIR / target / \"crystal_ligand.mol2\").resolve()))\n",
    "\n",
    "    # Get ligand atomic coords\n",
    "    lig_coords = ligand.GetConformer().GetPositions()\n",
    "\n",
    "    # Get distance between residues and ligand atoms\n",
    "    distances = calculate_distance(protein, lig_coords)\n",
    "\n",
    "    # Apply Filtering\n",
    "    distances = {k: v for k, v in distances.items() if v < threshold}\n",
    "\n",
    "    # Write structure\n",
    "    pdbio = PDBIO()\n",
    "    pdbio.set_structure(protein)\n",
    "    pdbio.save(str(Path(ROOT_DIR / target / \"pocket.pdb\").resolve()), select=DistanceSelect(distances))"
   ]
  },
  {
   "cell_type": "code",
   "execution_count": null,
   "id": "regulation-member",
   "metadata": {
    "jupyter": {
     "outputs_hidden": true
    },
    "tags": []
   },
   "outputs": [],
   "source": [
    "for target in tqdm(targets):\n",
    "    problematic = []\n",
    "    \n",
    "    # Some molecules are broken. Eg. in aa2ar so we skip these\n",
    "    try:\n",
    "        extract_pocket(target, threshold = 8.0)\n",
    "    except:\n",
    "        problematic.append(target)\n",
    "        continue\n",
    "    "
   ]
  },
  {
   "cell_type": "code",
   "execution_count": null,
   "id": "fantastic-organic",
   "metadata": {},
   "outputs": [],
   "source": [
    "problematic"
   ]
  },
  {
   "cell_type": "code",
   "execution_count": null,
   "id": "fatal-manufacturer",
   "metadata": {},
   "outputs": [],
   "source": []
  }
 ],
 "metadata": {
  "kernelspec": {
   "name": "python3",
   "language": "python",
   "display_name": "Python 3"
  },
  "language_info": {
   "codemirror_mode": {
    "name": "ipython",
    "version": 3
   },
   "file_extension": ".py",
   "mimetype": "text/x-python",
   "name": "python",
   "nbconvert_exporter": "python",
   "pygments_lexer": "ipython3",
   "version": "3.8.5"
  },
  "pycharm": {
   "stem_cell": {
    "cell_type": "raw",
    "source": [],
    "metadata": {
     "collapsed": false
    }
   }
  }
 },
 "nbformat": 4,
 "nbformat_minor": 5
}