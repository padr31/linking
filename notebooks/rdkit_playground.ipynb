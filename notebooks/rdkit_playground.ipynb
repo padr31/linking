{
 "cells": [
  {
   "cell_type": "code",
   "execution_count": null,
   "outputs": [],
   "source": [
    "from rdkit.Chem import rdmolops\n",
    "from dgllife.utils import mol_to_bigraph, mol_to_graph, mol_to_complete_graph\n",
    "from dgllife.utils import (\n",
    "    CanonicalAtomFeaturizer,\n",
    "    CanonicalBondFeaturizer,\n",
    ")\n",
    "from rdkit import Chem\n",
    "from rdkit.Chem import rdDepictor\n",
    "from rdkit.Chem.Draw import rdMolDraw2D\n",
    "from IPython.display import SVG\n",
    "\n",
    "def moltosvg(mol, molSize = (300,300), kekulize = True):\n",
    "    mc = Chem.Mol(mol.ToBinary())\n",
    "    if kekulize:\n",
    "        try:\n",
    "            Chem.Kekulize(mc)\n",
    "        except:\n",
    "            mc = Chem.Mol(mol.ToBinary())\n",
    "    if not mc.GetNumConformers():\n",
    "        rdDepictor.Compute2DCoords(mc)\n",
    "    drawer = rdMolDraw2D.MolDraw2DSVG(molSize[0],molSize[1])\n",
    "    drawer.DrawMolecule(mc)\n",
    "    drawer.FinishDrawing()\n",
    "    svg = drawer.GetDrawingText()\n",
    "    return svg.replace('svg:','')\n",
    "\n",
    "def mol_with_atom_index(mol):\n",
    "    for atom in mol.GetAtoms():\n",
    "        atom.SetAtomMapNum(atom.GetIdx())\n",
    "    return mol\n",
    "\n",
    "mol = Chem.MolFromPDBFile(\"/Users/padr/repos/linking/datasets/raw/refined-set/1a1e/1a1e_pocket.pdb\")\n",
    "SVG(moltosvg(mol))\n",
    "\n",
    "print(len(mol.GetBonds()))\n",
    "#graph = mol_to_complete_graph(mol, explicit_hydrogens=False, node_featurizer=CanonicalAtomFeaturizer, edge_featurizer=CanonicalBondFeaturizer)\n",
    "\n",
    "'''for x in m.GetAtoms():\n",
    "    print(x.GetIdx(), x.GetHybridization())\n",
    "'''\n",
    "'''\n",
    "mol_frags = rdmolops.GetMolFrags(mol, asMols = True)\n",
    "print(len(mol_frags))\n",
    "largest_mol = max(mol_frags, default=mol, key=lambda m: m.GetNumAtoms())\n",
    "print(Chem.MolToSmiles(largest_mol))\n",
    "print(len(largest_mol.GetAtoms()))\n",
    "'''"
   ],
   "metadata": {
    "collapsed": false,
    "pycharm": {
     "name": "#%%\n",
     "is_executing": true
    }
   }
  }
 ],
 "metadata": {
  "kernelspec": {
   "display_name": "Python 3",
   "language": "python",
   "name": "python3"
  },
  "language_info": {
   "codemirror_mode": {
    "name": "ipython",
    "version": 2
   },
   "file_extension": ".py",
   "mimetype": "text/x-python",
   "name": "python",
   "nbconvert_exporter": "python",
   "pygments_lexer": "ipython2",
   "version": "2.7.6"
  },
  "pycharm": {
   "stem_cell": {
    "cell_type": "raw",
    "source": [],
    "metadata": {
     "collapsed": false
    }
   }
  }
 },
 "nbformat": 4,
 "nbformat_minor": 0
}