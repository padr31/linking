{
 "cells": [
  {
   "cell_type": "code",
   "execution_count": null,
   "outputs": [],
   "source": [
    "from rdkit.Chem import rdmolops\n",
    "import os\n",
    "from rdkit import Chem\n",
    "from rdkit.Chem import rdDepictor\n",
    "from rdkit.Chem.Draw import rdMolDraw2D\n",
    "from IPython.display import SVG\n",
    "\n",
    "def moltosvg(mol, molSize = (300,300), kekulize = True):\n",
    "    mc = Chem.Mol(mol.ToBinary())\n",
    "    if kekulize:\n",
    "        try:\n",
    "            Chem.Kekulize(mc)\n",
    "        except:\n",
    "            mc = Chem.Mol(mol.ToBinary())\n",
    "    if not mc.GetNumConformers():\n",
    "        rdDepictor.Compute2DCoords(mc)\n",
    "    drawer = rdMolDraw2D.MolDraw2DSVG(molSize[0],molSize[1])\n",
    "    drawer.DrawMolecule(mc)\n",
    "    drawer.FinishDrawing()\n",
    "    svg = drawer.GetDrawingText()\n",
    "    return svg.replace('svg:','')\n",
    "\n",
    "def mol_with_atom_index(mol):\n",
    "    for atom in mol.GetAtoms():\n",
    "        atom.SetAtomMapNum(atom.GetIdx())\n",
    "    return mol\n",
    "\n",
    "def get_components(mol):\n",
    "    mol_frags = rdmolops.GetMolFrags(mol, asMols = True)\n",
    "    largest_mol = max(mol_frags, default=mol, key=lambda m: m.GetNumAtoms())\n",
    "    return len(mol_frags), len(largest_mol.GetAtoms())\n",
    "\n",
    "#mol = Chem.MolFromPDBFile(\"/Users/padr/repos/linking/datasets/raw/refined-set/1a1e/1a1e_pocket.pdb\")\n",
    "#SVG(moltosvg(mol))\n",
    "\n",
    "#graph = mol_to_complete_graph(mol, explicit_hydrogens=False, node_featurizer=CanonicalAtomFeaturizer, edge_featurizer=CanonicalBondFeaturizer)\n",
    "\n",
    "# Read data into huge `Data` list.\n",
    "bad_data = [\"1g7v\", \"1r1h\", \"2a5b\", \"2zjw\", \"1cps\", \"4abd\"]\n",
    "files_to_process = []\n",
    "for path, dirs, files in os.walk(dir):\n",
    "    for file in files:\n",
    "        if file.endswith('protein.pdb') and not file.split(\"_\")[0] in bad_data:\n",
    "            full_path = path + os.sep + file\n",
    "            files_to_process.append(full_path)\n",
    "\n",
    "graphs = []\n",
    "total = len(files_to_process)\n",
    "print(\"Starting to process \" + str(total) + \" files...\")\n",
    "i = 0\n",
    "for path in sorted(files_to_process):\n",
    "    i += 1\n",
    "    mol = Chem.MolFromPDBFile(path)\n",
    "    print(\n",
    "        \"(\" + str(int(100 * i / total)) + \"%) File \" + os.path.basename(path) + \" has X fragments and the largest is of size Y: \" + get_components(mol)\n",
    "    )"
   ],
   "metadata": {
    "collapsed": false,
    "pycharm": {
     "name": "#%%\n",
     "is_executing": true
    }
   }
  }
 ],
 "metadata": {
  "kernelspec": {
   "display_name": "Python 3",
   "language": "python",
   "name": "python3"
  },
  "language_info": {
   "codemirror_mode": {
    "name": "ipython",
    "version": 2
   },
   "file_extension": ".py",
   "mimetype": "text/x-python",
   "name": "python",
   "nbconvert_exporter": "python",
   "pygments_lexer": "ipython2",
   "version": "2.7.6"
  },
  "pycharm": {
   "stem_cell": {
    "cell_type": "raw",
    "source": [],
    "metadata": {
     "collapsed": false
    }
   }
  }
 },
 "nbformat": 4,
 "nbformat_minor": 0
}